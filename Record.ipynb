{
 "cells": [
  {
   "cell_type": "code",
   "execution_count": 3,
   "id": "b4333aac",
   "metadata": {},
   "outputs": [],
   "source": [
    "import json\n",
    "\n",
    "fd=open('record.json','r')\n",
    "\n",
    "r=fd.read()\n",
    "\n",
    "fd.close\n",
    "\n",
    "record= json.loads(r)"
   ]
  },
  {
   "cell_type": "code",
   "execution_count": 3,
   "id": "0555fde0",
   "metadata": {},
   "outputs": [
    {
     "name": "stdout",
     "output_type": "stream",
     "text": [
      "Enter the Product ID: 1031\n",
      "Enter the product name: Brush\n",
      "Enter the quantity: 250\n",
      "Enter the price: 25\n"
     ]
    }
   ],
   "source": [
    "prod_id=str(input('Enter the Product ID: '))\n",
    "name=str(input('Enter the product name: '))\n",
    "qn=int(input('Enter the quantity: '))\n",
    "pr=int(input('Enter the price: '))\n",
    "\n",
    "record[prod_id] = {'name': name, 'pr': pr, 'qn': qn}"
   ]
  },
  {
   "cell_type": "code",
   "execution_count": 4,
   "id": "a2b98370",
   "metadata": {},
   "outputs": [
    {
     "data": {
      "text/plain": [
       "{'1001': {'name': 'Choco Cake', 'qn': 34, 'pr': 100},\n",
       " '1002': {'name': 'Milk Cake', 'pr': 800, 'qn': 100},\n",
       " '1003': {'name': 'Drink', 'pr': 85, 'qn': 100},\n",
       " '1004': {'name': 'Candy', 'pr': 5, 'qn': 1000},\n",
       " '1005': {'name': 'Pen', 'pr': 20, 'qn': 100},\n",
       " '1006': {'name': 'Phone', 'pr': 50000, 'qn': 10},\n",
       " '1007': {'name': 'Mic', 'pr': 1500, 'qn': 0},\n",
       " '1008': {'name': 'Case', 'pr': 599, 'qn': 5},\n",
       " '1009': {'name': 'Keyboard', 'pr': 1999, 'qn': 10},\n",
       " '1010': {'name': 'Chocolate', 'pr': 10, 'qn': 500},\n",
       " '1011': {'name': 'Chair', 'pr': 125, 'qn': 250},\n",
       " '1012': {'name': 'Bag', 'pr': 350, 'qn': 250},\n",
       " '1013': {'name': 'Table', 'pr': 750, 'qn': 50},\n",
       " '1014': {'name': 'Soap', 'pr': 25, 'qn': 250},\n",
       " '1015': {'name': 'Charger', 'pr': 800, 'qn': 250},\n",
       " '1016': {'name': 'Pin', 'pr': 2, 'qn': 800},\n",
       " '1017': {'name': 'Medikit', 'pr': 250, 'qn': 250},\n",
       " '1018': {'name': 'Pipe', 'pr': 250, 'qn': 25},\n",
       " '1019': {'name': 'Sofa', 'pr': 25000, 'qn': 25},\n",
       " '1020': {'name': 'Sandals', 'pr': 300, 'qn': 250},\n",
       " '1021': {'name': 'Shoes', 'pr': 500, 'qn': 250},\n",
       " '1022': {'name': 'Laptop', 'pr': 60000, 'qn': 25},\n",
       " '1023': {'name': 'Computer', 'pr': 50000, 'qn': 25},\n",
       " '1024': {'name': 'Face Wash', 'pr': 45, 'qn': 250},\n",
       " '1025': {'name': 'Automobile', 'pr': 60000, 'qn': 25},\n",
       " '1026': {'name': 'Drums', 'pr': 300, 'qn': 25},\n",
       " '1027': {'name': 'Guitars', 'pr': 7500, 'qn': 50},\n",
       " '1028': {'name': 'Piano', 'pr': 30000, 'qn': 25},\n",
       " '1029': {'name': 'Books', 'pr': 45, 'qn': 250},\n",
       " '1030': {'name': 'Paper', 'pr': 2, 'qn': 3000},\n",
       " '1031': {'name': 'Brush', 'pr': 25, 'qn': 250}}"
      ]
     },
     "execution_count": 4,
     "metadata": {},
     "output_type": "execute_result"
    }
   ],
   "source": [
    "record"
   ]
  },
  {
   "cell_type": "code",
   "execution_count": 4,
   "id": "98f8d6ec",
   "metadata": {},
   "outputs": [],
   "source": [
    "js=json.dumps(record)\n",
    "\n",
    "fd=open('record.json','w')\n",
    "\n",
    "fd.write(js)\n",
    "\n",
    "fd.close()"
   ]
  },
  {
   "cell_type": "code",
   "execution_count": 5,
   "id": "32bd0aef",
   "metadata": {},
   "outputs": [],
   "source": [
    "#purchasing"
   ]
  },
  {
   "cell_type": "code",
   "execution_count": 93,
   "id": "aa654bb2",
   "metadata": {},
   "outputs": [
    {
     "name": "stdout",
     "output_type": "stream",
     "text": [
      "Enter the product ID: 1030\n",
      "Enter the quantity: 250\n",
      "The name of the product is:  Paper\n",
      "Payable Price:  500\n",
      "Quantity bought:  250\n"
     ]
    }
   ],
   "source": [
    "p_prod=str(input('Enter the product ID: '))\n",
    "p_qn=int(input('Enter the quantity: '))\n",
    "\n",
    "print(\"The name of the product is: \",record[p_prod]['name'])\n",
    "print('Payable Price: ', record[p_prod]['pr']*p_qn)\n",
    "print('Quantity bought: ', p_qn)\n",
    "\n",
    "record[p_prod]['qn'] = record[p_prod]['qn']-p_qn"
   ]
  },
  {
   "cell_type": "code",
   "execution_count": 94,
   "id": "84a23e61",
   "metadata": {},
   "outputs": [],
   "source": [
    "js=json.dumps(record)\n",
    "\n",
    "fd= open('record.json','w')\n",
    "\n",
    "fd.write((js))\n",
    "\n",
    "fd.close()"
   ]
  },
  {
   "cell_type": "code",
   "execution_count": 95,
   "id": "407b2a0b",
   "metadata": {},
   "outputs": [
    {
     "data": {
      "text/plain": [
       "{'1001': {'name': 'Choco Cake', 'qn': 34, 'pr': 100},\n",
       " '1002': {'name': 'Milk Cake', 'pr': 800, 'qn': 100},\n",
       " '1003': {'name': 'Drink', 'pr': 85, 'qn': 100},\n",
       " '1004': {'name': 'Candy', 'pr': 5, 'qn': 1000},\n",
       " '1005': {'name': 'Pen', 'pr': 20, 'qn': 96},\n",
       " '1006': {'name': 'Phone', 'pr': 50000, 'qn': 10},\n",
       " '1007': {'name': 'Mic', 'pr': 1500, 'qn': 0},\n",
       " '1008': {'name': 'Case', 'pr': 599, 'qn': 5},\n",
       " '1009': {'name': 'Keyboard', 'pr': 1999, 'qn': 10},\n",
       " '1010': {'name': 'Chocolate', 'pr': 10, 'qn': 500},\n",
       " '1011': {'name': 'Chair', 'pr': 125, 'qn': 245},\n",
       " '1012': {'name': 'Bag', 'pr': 350, 'qn': 247},\n",
       " '1013': {'name': 'Table', 'pr': 750, 'qn': 50},\n",
       " '1014': {'name': 'Soap', 'pr': 25, 'qn': 250},\n",
       " '1015': {'name': 'Charger', 'pr': 800, 'qn': 245},\n",
       " '1016': {'name': 'Pin', 'pr': 2, 'qn': 793},\n",
       " '1017': {'name': 'Medikit', 'pr': 250, 'qn': 250},\n",
       " '1018': {'name': 'Pipe', 'pr': 250, 'qn': 25},\n",
       " '1019': {'name': 'Sofa', 'pr': 25000, 'qn': 25},\n",
       " '1020': {'name': 'Sandals', 'pr': 300, 'qn': 250},\n",
       " '1021': {'name': 'Shoes', 'pr': 500, 'qn': 250},\n",
       " '1022': {'name': 'Laptop', 'pr': 60000, 'qn': 25},\n",
       " '1023': {'name': 'Computer', 'pr': 50000, 'qn': 25},\n",
       " '1024': {'name': 'Face Wash', 'pr': 45, 'qn': 250},\n",
       " '1025': {'name': 'Automobile', 'pr': 60000, 'qn': 20},\n",
       " '1026': {'name': 'Drums', 'pr': 300, 'qn': 25},\n",
       " '1027': {'name': 'Guitars', 'pr': 7500, 'qn': 45},\n",
       " '1028': {'name': 'Piano', 'pr': 30000, 'qn': 25},\n",
       " '1029': {'name': 'Books', 'pr': 45, 'qn': 235},\n",
       " '1030': {'name': 'Paper', 'pr': 2, 'qn': 2750},\n",
       " '1031': {'name': 'Brush', 'pr': 25, 'qn': 250}}"
      ]
     },
     "execution_count": 95,
     "metadata": {},
     "output_type": "execute_result"
    }
   ],
   "source": [
    "record"
   ]
  },
  {
   "cell_type": "code",
   "execution_count": 56,
   "id": "0a0e79e9",
   "metadata": {},
   "outputs": [
    {
     "data": {
      "text/plain": [
       "{'prod': '1012', 'qn': 3, 'amount': 1050}"
      ]
     },
     "execution_count": 56,
     "metadata": {},
     "output_type": "execute_result"
    }
   ],
   "source": [
    "{'prod':p_prod,'qn':p_qn,'amount':record[p_prod]['pr']*p_qn}"
   ]
  },
  {
   "cell_type": "code",
   "execution_count": 10,
   "id": "a878cdb8",
   "metadata": {},
   "outputs": [],
   "source": [
    "sales={1:{'prod':p_prod,'qn':p_qn,'amount':record[p_prod]['pr']*p_qn}}"
   ]
  },
  {
   "cell_type": "code",
   "execution_count": 58,
   "id": "66a0e4f1",
   "metadata": {},
   "outputs": [
    {
     "data": {
      "text/plain": [
       "'{\"1\": {\"prod\": \"1012\", \"qn\": 3, \"amount\": 1050}}'"
      ]
     },
     "execution_count": 58,
     "metadata": {},
     "output_type": "execute_result"
    }
   ],
   "source": [
    "json.dumps(sales)"
   ]
  },
  {
   "cell_type": "code",
   "execution_count": 59,
   "id": "1808d59f",
   "metadata": {},
   "outputs": [],
   "source": [
    "fd= open('record.json','r')\n",
    "\n",
    "r=fd.read()\n",
    "\n",
    "fd.close()"
   ]
  },
  {
   "cell_type": "code",
   "execution_count": 96,
   "id": "c44bb938",
   "metadata": {},
   "outputs": [
    {
     "data": {
      "text/plain": [
       "{11: {'prod': '1030', 'qn': 250, 'amount': 500}}"
      ]
     },
     "execution_count": 96,
     "metadata": {},
     "output_type": "execute_result"
    }
   ],
   "source": [
    "{(len(sales)+1):{'prod':p_prod,'qn':p_qn,'amount':record[p_prod]['pr']*p_qn}}"
   ]
  },
  {
   "cell_type": "code",
   "execution_count": 97,
   "id": "485e184c",
   "metadata": {},
   "outputs": [],
   "source": [
    "sales[len(sales)+1]={'prod':p_prod,'qn':p_qn,'amount':record[p_prod]['pr']*p_qn}"
   ]
  },
  {
   "cell_type": "code",
   "execution_count": 98,
   "id": "ff965420",
   "metadata": {},
   "outputs": [
    {
     "data": {
      "text/plain": [
       "{1: {'prod': '1015', 'qn': 15, 'amount': 12000},\n",
       " 2: {'prod': '1015', 'qn': 15, 'amount': 12000},\n",
       " 3: {'prod': '1012', 'qn': 3, 'amount': 1050},\n",
       " 4: {'prod': '1025', 'qn': 5, 'amount': 300000},\n",
       " 5: {'prod': '1011', 'qn': 5, 'amount': 625},\n",
       " 6: {'prod': '1005', 'qn': 4, 'amount': 80},\n",
       " 7: {'prod': '1027', 'qn': 5, 'amount': 37500},\n",
       " 8: {'prod': '1015', 'qn': 5, 'amount': 4000},\n",
       " 9: {'prod': '1016', 'qn': 7, 'amount': 14},\n",
       " 10: {'prod': '1029', 'qn': 15, 'amount': 675},\n",
       " 11: {'prod': '1030', 'qn': 250, 'amount': 500}}"
      ]
     },
     "execution_count": 98,
     "metadata": {},
     "output_type": "execute_result"
    }
   ],
   "source": [
    "sales"
   ]
  },
  {
   "cell_type": "code",
   "execution_count": 99,
   "id": "37ddae8f",
   "metadata": {},
   "outputs": [],
   "source": [
    "js=json.dumps(sales)"
   ]
  },
  {
   "cell_type": "code",
   "execution_count": 100,
   "id": "1c905312",
   "metadata": {},
   "outputs": [],
   "source": [
    "fd= open('sales.json','w')\n",
    "fd.write(js)\n",
    "fd.close()"
   ]
  },
  {
   "cell_type": "code",
   "execution_count": null,
   "id": "29a39323",
   "metadata": {},
   "outputs": [],
   "source": []
  }
 ],
 "metadata": {
  "kernelspec": {
   "display_name": "Python 3",
   "language": "python",
   "name": "python3"
  },
  "language_info": {
   "codemirror_mode": {
    "name": "ipython",
    "version": 3
   },
   "file_extension": ".py",
   "mimetype": "text/x-python",
   "name": "python",
   "nbconvert_exporter": "python",
   "pygments_lexer": "ipython3",
   "version": "3.8.8"
  }
 },
 "nbformat": 4,
 "nbformat_minor": 5
}
